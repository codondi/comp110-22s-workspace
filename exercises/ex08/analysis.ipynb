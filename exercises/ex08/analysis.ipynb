{
 "cells": [
  {
   "cell_type": "markdown",
   "metadata": {},
   "source": [
    "# Analysis for Continuous Improvement\n",
    "\n",
    "Author Name: Chris Odondi\n",
    "\n",
    "9-digit PID: 730449161\n",
    "\n",
    "Continuous Improvement embraces a belief there is _always room to make things better_. It is a mindset and process we value and practice in this course. In this assignment, you are able to practice continuous improvement and contribute to the design ideas of the course.\n",
    "\n",
    "## Brainstorming Ideas\n",
    "\n",
    "Reflect on your personal experiences and observations in COMP110 and **brainstorm modifications to the course that _create value_ beyond its current design**. When brainstorming, try not to be critical of the ideas you come up with regarding scale, stakeholders impacted, or for any other reasons. In the markdown cell below, brainstorm 3 to 5 ideas you think would create value for you.\n",
    "\n",
    "Each brainstormed idea should state a. the suggested change or addition, b. what the expected value created, and c. which specific stakeholders would benefit.  If helpful, expand on the following template \"The course should (state idea here) because it will (state value created here) for (insert stakeholders here).\"\n",
    "\n",
    "Example A: \"The course should use only examples from psychology experiments because it will be more relevant for students who are psychology majors.\"\n",
    "\n",
    "Example B: \"The course should not have post-lesson questions because they are not useful for most students in the class.\""
   ]
  },
  {
   "cell_type": "markdown",
   "metadata": {},
   "source": [
    "### Part 1. Creative Ideation\n",
    "\n",
    "1. The course should incentivise students to go to a quiz review session over the course of the semester since they are effective and will help students learn the class material better.\n",
    "2. The course should show students how skills learned in the class will be valuable to them in the future, so they will know ways of applying their skills.\n",
    "3. The course should decrease the pace of the class to increase the time students have to learn the material.\n",
    "4. The course should require students to go to tutoring since it is effective and will help students learn the material in the class.\n",
    "5. The course should take place over monday, wednesday, and friday, because students will be able to learn topics over more class days which will increase their familiarity with the content."
   ]
  },
  {
   "cell_type": "markdown",
   "metadata": {},
   "source": [
    "## Connecting with Available Data\n",
    "\n",
    "The data you have available for this analysis is limited to the anonymized course survey you and your peers filled out a few weeks ago. The data is found in the `survey.csv` file in this exercise directory. Each row represents an individual survey response. Each column has a description which can be found on the project write-up here: <https://22s.comp110.com/exercises/ex08.html>\n",
    "\n",
    "Review the list of available data and identify which one of your ideas _does not_, or is _least likely to_, have relevant data to support the analysis of your idea to create value. In the box below, identify which of your ideas lacks data and suggest how we might be able to collect this data in the future. One aspect of _continuous improvement_ is trying to avoid \"tunnel vision\" where possible improvements are not considered because there is no data available to analyze it. Identifying new data sources can unlock improvements!"
   ]
  },
  {
   "cell_type": "markdown",
   "metadata": {},
   "source": [
    "### Part 2. Identifying Missing Data\n",
    "\n",
    "1. Idea without sufficient data to analyze: Creating study groups for students would increase their understanding of class material.\n",
    "\n",
    "2. Suggestion for how to collect data to support this idea in the future: Have one section with study groups, and another without, then compare the data."
   ]
  },
  {
   "cell_type": "markdown",
   "metadata": {},
   "source": [
    "## Choosing an Idea to Analyze\n",
    "\n",
    "Consider those of your ideas which _do_ seem likely to have relevant data to analyze. If none of your ideas do, spend a few minutes and brainstorm another idea or two with the added connection of data available on hand and add those ideas to your brainstormed ideas list.\n",
    "\n",
    "Select the one idea which you believe is _most valuable_ to analyze relative to the others and has data to support the analysis of. In the markdown cell for Part 3 below, identify the idea you are exploring and articulate why you believe it is most valuable (e.g. widest impact, biggest opportunity for improvement, simplest change for significant improvement, and so on)."
   ]
  },
  {
   "cell_type": "markdown",
   "metadata": {},
   "source": [
    "## Part 3\n",
    "\n",
    "I am choosing to analyze the idea of requiring students to go to at least one session of tutoring because it can help all students: whether it is in reinforcing knowledge or filling gaps in knowledge."
   ]
  },
  {
   "cell_type": "markdown",
   "metadata": {},
   "source": [
    "## Your Analysis\n",
    "\n",
    "Before you begin analysis, a reminder that we do not expect the data to support everyone's ideas and you can complete this exercise for full credit even if the data does not clearly support your suggestion or even completely refutes it. What we are looking for is a logical attempt to explore the data using the techniques you have learned up until now in a way that _either_ supports, refutes, or does not have a clear result and then to reflect on your findings after the analysis.\n",
    "\n",
    "Using the utility functions you created for the previous exercise, you will continue with your analysis in the following part. Before you begin, refer to the rubric on the technical expectations of this section in the exercise write-up.\n",
    "\n",
    "In this section, you are expected to interleave code and markdown cells such that for each step of your analysis you are starting with an English description of what you are planning to do next in a markdown cell, followed by a Python cell that performs that step of the analysis."
   ]
  },
  {
   "cell_type": "markdown",
   "metadata": {},
   "source": [
    "### Part 4. Analysis\n",
    "\n",
    "We begin by changing some settings in the notebook to automatically reload changes to imported files."
   ]
  },
  {
   "cell_type": "code",
   "execution_count": 8,
   "metadata": {},
   "outputs": [],
   "source": [
    "%reload_ext autoreload\n",
    "%autoreload 2"
   ]
  },
  {
   "cell_type": "markdown",
   "metadata": {},
   "source": [
    "We continue by importing the helper functions from `data_utils`."
   ]
  },
  {
   "cell_type": "code",
   "execution_count": 9,
   "metadata": {},
   "outputs": [],
   "source": [
    "from csv import DictReader\n",
    "\n",
    "from data_utils import *"
   ]
  },
  {
   "cell_type": "markdown",
   "metadata": {},
   "source": [
    "Next, ... (you take it from here and add additional code and markdown cells to read in the CSV file and process it as needed)"
   ]
  },
  {
   "cell_type": "code",
   "execution_count": 10,
   "metadata": {},
   "outputs": [],
   "source": [
    "SURVEY_DATA_CSV_FILE_PATH: str = \"../../data/survey.csv\""
   ]
  },
  {
   "cell_type": "markdown",
   "metadata": {},
   "source": [
    "Read data file into a column oriented table."
   ]
  },
  {
   "cell_type": "code",
   "execution_count": 11,
   "metadata": {},
   "outputs": [],
   "source": [
    "data_table: dict[str, list[str]] = columnar(read_csv_rows(SURVEY_DATA_CSV_FILE_PATH))"
   ]
  },
  {
   "cell_type": "markdown",
   "metadata": {},
   "source": [
    "Use select funciton to isolate relevant data."
   ]
  },
  {
   "cell_type": "code",
   "execution_count": 12,
   "metadata": {},
   "outputs": [],
   "source": [
    "relevant_table: dict[str, list[str]] = select(data_table, [\"tutoring_effective\", \"understanding\"])"
   ]
  },
  {
   "cell_type": "markdown",
   "metadata": {},
   "source": [
    "Use head funtion to check if I am on the right track."
   ]
  },
  {
   "cell_type": "code",
   "execution_count": 13,
   "metadata": {},
   "outputs": [
    {
     "data": {
      "text/plain": [
       "{'row': ['0'],\n",
       " 'year': ['22'],\n",
       " 'unc_status': ['Returning UNC Student'],\n",
       " 'comp_major': ['No'],\n",
       " 'primary_major': ['Mathematics'],\n",
       " 'data_science': ['No'],\n",
       " 'prereqs': ['MATH 233, MATH 347, MATH 381'],\n",
       " 'prior_exp': ['7-12 months'],\n",
       " 'ap_principles': ['No'],\n",
       " 'ap_a': ['No'],\n",
       " 'other_comp': ['UNC'],\n",
       " 'prior_time': ['1 month or so'],\n",
       " 'languages': ['Python, R / Matlab / SAS'],\n",
       " 'hours_online_social': ['3 to 5 hours'],\n",
       " 'hours_online_work': ['0 to 2 hours'],\n",
       " 'lesson_time': ['6'],\n",
       " 'sync_perf': ['2'],\n",
       " 'all_sync': ['2'],\n",
       " 'flipped_class': ['1'],\n",
       " 'no_hybrid': ['2'],\n",
       " 'own_notes': ['4'],\n",
       " 'own_examples': ['4'],\n",
       " 'oh_visits': ['0'],\n",
       " 'ls_effective': ['7'],\n",
       " 'lsqs_effective': ['3'],\n",
       " 'programming_effective': ['7'],\n",
       " 'qz_effective': ['5'],\n",
       " 'oh_effective': [''],\n",
       " 'tutoring_effective': [''],\n",
       " 'pace': ['1'],\n",
       " 'difficulty': ['1'],\n",
       " 'understanding': ['7'],\n",
       " 'interesting': ['5'],\n",
       " 'valuable': ['6'],\n",
       " 'would_recommend': ['5']}"
      ]
     },
     "execution_count": 13,
     "metadata": {},
     "output_type": "execute_result"
    }
   ],
   "source": [
    "head(data_table, 1)"
   ]
  },
  {
   "cell_type": "markdown",
   "metadata": {},
   "source": [
    "Use count function to count responses for relevant data and the self made function column_list_extract to remove a list of type string from the relevant table."
   ]
  },
  {
   "cell_type": "code",
   "execution_count": 14,
   "metadata": {},
   "outputs": [],
   "source": [
    "tutoring_count: dict[str, int] = count(column_list_extract(relevant_table, \"tutoring_effective\"))\n",
    "understanding_count: dict[str, int] = count(column_list_extract(relevant_table, \"understanding\"))"
   ]
  },
  {
   "cell_type": "markdown",
   "metadata": {},
   "source": [
    "Show data in a visual representation."
   ]
  },
  {
   "cell_type": "code",
   "execution_count": null,
   "metadata": {},
   "outputs": [],
   "source": []
  },
  {
   "cell_type": "markdown",
   "metadata": {},
   "source": [
    "## Conclusion\n",
    "\n",
    "In the following markdown cell, write a reflective conclusion given the analysis you performed and identify recommendations.\n",
    "\n",
    "If your analysis of the data supports your idea, state your recommendation for the change and summarize the data analysys results you found which support it. Additionally, describe any extensions or refinements to this idea which might be explored further. Finally, discuss the potential costs, trade-offs, or stakeholders who may be negatively impacted by this proposed change.\n",
    "\n",
    "If your analysis of the data is inconclusive, summarize why your data analysis results were inconclusive in the support of your idea. Additionally, describe what experimental idea implementation or additional data collection might help build more confidence in assessing your idea. Finally, discuss the potential costs, trade-offs, or stakeholders who may be negatively impacted by experimenting with your idea.\n",
    "\n",
    "Finally, if your analysis of the data does not support it, summarize your data analysis results and why it refutes your idea. Discuss the potential costs, trade-offs, or stakeholders who may be negatively impacted by this proposed change. If you disagree with the validity of the findings, describe why your idea still makes sense to implement and what alternative data would better support it. If you agree with the validity of the data analysis, describe what alternate ideas or extensions you would explore instead. "
   ]
  },
  {
   "cell_type": "markdown",
   "metadata": {},
   "source": [
    "### Part 5. Conclusion\n",
    "\n"
   ]
  }
 ],
 "metadata": {
  "interpreter": {
   "hash": "aee8b7b246df8f9039afb4144a1f6fd8d2ca17a180786b69acc140d282b71a49"
  },
  "kernelspec": {
   "display_name": "Python 3.10.2 64-bit",
   "language": "python",
   "name": "python3"
  },
  "language_info": {
   "codemirror_mode": {
    "name": "ipython",
    "version": 3
   },
   "file_extension": ".py",
   "mimetype": "text/x-python",
   "name": "python",
   "nbconvert_exporter": "python",
   "pygments_lexer": "ipython3",
   "version": "3.10.2"
  },
  "orig_nbformat": 4
 },
 "nbformat": 4,
 "nbformat_minor": 2
}
